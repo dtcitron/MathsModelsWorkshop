{
 "cells": [
  {
   "cell_type": "markdown",
   "id": "428af823",
   "metadata": {},
   "source": [
    "# Exercise 1: Numerical solution to the SIR Model\n",
    "\n",
    "We will use a numerical ODE solver to integrate the SIR model. Our state variables are (S, I, R) and our parameters are beta and gamma."
   ]
  },
  {
   "cell_type": "code",
   "execution_count": 4,
   "id": "81574a65",
   "metadata": {},
   "outputs": [],
   "source": [
    "# Load libraries\n",
    "import numpy as np\n",
    "from scipy.integrate import odeint\n",
    "import pandas as pd\n",
    "import matplotlib.pyplot as plt\n"
   ]
  },
  {
   "cell_type": "code",
   "execution_count": 5,
   "id": "cc6de3f0",
   "metadata": {},
   "outputs": [],
   "source": [
    "%matplotlib inline"
   ]
  },
  {
   "cell_type": "markdown",
   "id": "9787d7ec",
   "metadata": {},
   "source": [
    "Define a function for numerically integrating the SIR model"
   ]
  },
  {
   "cell_type": "code",
   "execution_count": 6,
   "id": "03de61c7",
   "metadata": {},
   "outputs": [],
   "source": [
    "def sir_model(state, time, parameters):\n",
    "    # Unpack Parameters\n",
    "    \n",
    "    # Calculate force of infection\n",
    "    lambd = beta * I / N\n",
    "    \n",
    "    # Calculate derivatives\n",
    "    #dS = \n",
    "    #dI = \n",
    "    #dR = \n",
    "    \n",
    "    # Return derivative\n",
    "    return [dS, dI, dR]"
   ]
  },
  {
   "cell_type": "markdown",
   "id": "ea566093",
   "metadata": {},
   "source": [
    "Define the initial state variables, parameters, and time span. "
   ]
  },
  {
   "cell_type": "code",
   "execution_count": 13,
   "id": "6679ecc8",
   "metadata": {},
   "outputs": [],
   "source": [
    "# Initial values for state variables\n",
    "initial_state_values = [9999, 1, 0]\n",
    "\n",
    "# Parameter values\n",
    "parameters = {'beta': 1, 'gamma': 1/7}\n",
    "\n",
    "# Define a list of time steps\n",
    "times = np.arange(0, 50.1, 0.1)"
   ]
  },
  {
   "cell_type": "markdown",
   "id": "b2f5194c",
   "metadata": {},
   "source": [
    "Integrate the SIR function defined earlier."
   ]
  },
  {
   "cell_type": "code",
   "execution_count": 14,
   "id": "80acc7a3",
   "metadata": {},
   "outputs": [],
   "source": [
    "# Integrate, fill in odeint with appropriate arguments\n",
    "# sir_output = odeint(...)\n"
   ]
  },
  {
   "cell_type": "code",
   "execution_count": 1,
   "id": "f985eb95",
   "metadata": {},
   "outputs": [],
   "source": [
    "# Plot the output\n"
   ]
  },
  {
   "cell_type": "markdown",
   "id": "f9952363",
   "metadata": {},
   "source": [
    "## Question: What do you notice about the model output? \n",
    "Describe what you see about all three state variables. In particular, how does the number of infected people vary over time?\n"
   ]
  },
  {
   "cell_type": "markdown",
   "id": "7e037269",
   "metadata": {},
   "source": [
    "## Questions Part 1: Analyzing the Outbreak"
   ]
  },
  {
   "cell_type": "markdown",
   "id": "d21469f7",
   "metadata": {},
   "source": [
    "How many total people became infected? (The epidemic is over when fewer than one people remain infected)"
   ]
  },
  {
   "cell_type": "code",
   "execution_count": 40,
   "id": "3a23ebce",
   "metadata": {},
   "outputs": [
    {
     "data": {
      "text/plain": [
       "7967.902478880443"
      ]
     },
     "execution_count": 40,
     "metadata": {},
     "output_type": "execute_result"
    }
   ],
   "source": [
    "# outbreak size = "
   ]
  },
  {
   "cell_type": "markdown",
   "id": "8961116b",
   "metadata": {},
   "source": [
    "What time was the peak of the epidemic?"
   ]
  },
  {
   "cell_type": "code",
   "execution_count": 42,
   "id": "d7c8ac65",
   "metadata": {},
   "outputs": [
    {
     "data": {
      "text/plain": [
       "18.1"
      ]
     },
     "execution_count": 42,
     "metadata": {},
     "output_type": "execute_result"
    }
   ],
   "source": [
    "# max_i_time = "
   ]
  },
  {
   "cell_type": "markdown",
   "id": "f3aeaa62",
   "metadata": {},
   "source": [
    "How many people were infected at the time of the peak?"
   ]
  },
  {
   "cell_type": "code",
   "execution_count": 44,
   "id": "32aa1af6",
   "metadata": {},
   "outputs": [
    {
     "data": {
      "text/plain": [
       "1534.6523467020502"
      ]
     },
     "execution_count": 44,
     "metadata": {},
     "output_type": "execute_result"
    }
   ],
   "source": [
    "# max_i_value = \n"
   ]
  },
  {
   "cell_type": "markdown",
   "id": "82747167",
   "metadata": {},
   "source": [
    "## Questions Part 2: Varying beta and gamma\n",
    "Try a few different combinations of beta and gamma, and see how the plot changes.\n"
   ]
  },
  {
   "cell_type": "markdown",
   "id": "b9905307",
   "metadata": {},
   "source": [
    "Try varying the infection rate (𝜷) – \n",
    "  * What changes when you increase it to 2?\n",
    "  * What changes when you decrease it to 0.1?"
   ]
  },
  {
   "cell_type": "code",
   "execution_count": 2,
   "id": "157c2e84",
   "metadata": {},
   "outputs": [],
   "source": [
    "parameters = {'beta': 2, 'gamma': 1/7}\n",
    "\n",
    "# Integrate, fill in odeint with appropriate arguments\n",
    "# sir_output = odeint(...)\n",
    "\n",
    "# Plot"
   ]
  },
  {
   "cell_type": "code",
   "execution_count": 3,
   "id": "79fd92b6",
   "metadata": {},
   "outputs": [],
   "source": [
    "parameters = {'beta': 0.1, 'gamma': 1/7}\n",
    "\n",
    "# Integrate, fill in odeint with appropriate arguments\n",
    "# sir_output = odeint(...)\n",
    "\n",
    "# Plot"
   ]
  },
  {
   "cell_type": "markdown",
   "id": "f3850677",
   "metadata": {},
   "source": [
    "Try varying the time spent infected (1/𝜸) - \n",
    "  * What changes when you increase it to 14?\n",
    "  * What changes when you decrease it to 0.7?"
   ]
  },
  {
   "cell_type": "code",
   "execution_count": 4,
   "id": "51beae81",
   "metadata": {},
   "outputs": [],
   "source": [
    "parameters = {'beta': 1, 'gamma': 1/14}\n",
    "\n",
    "# Integrate, fill in odeint with appropriate arguments\n",
    "# sir_output = odeint(...)\n",
    "\n",
    "# Plot"
   ]
  },
  {
   "cell_type": "code",
   "execution_count": 5,
   "id": "79a2b53d",
   "metadata": {},
   "outputs": [],
   "source": [
    "parameters = {'beta': 1, 'gamma': 1/.7}\n",
    "\n",
    "# Integrate, fill in odeint with appropriate arguments\n",
    "# sir_output = odeint(...)\n",
    "\n",
    "# Plot"
   ]
  },
  {
   "cell_type": "markdown",
   "id": "02fcc626",
   "metadata": {},
   "source": [
    "Try a few different combinations of the two parameters. For what values do you see an outbreak, and for what values do you find there is no outbreak?\n"
   ]
  },
  {
   "cell_type": "code",
   "execution_count": null,
   "id": "91e03a6d",
   "metadata": {},
   "outputs": [],
   "source": []
  }
 ],
 "metadata": {
  "kernelspec": {
   "display_name": "Python 3 (ipykernel)",
   "language": "python",
   "name": "python3"
  },
  "language_info": {
   "codemirror_mode": {
    "name": "ipython",
    "version": 3
   },
   "file_extension": ".py",
   "mimetype": "text/x-python",
   "name": "python",
   "nbconvert_exporter": "python",
   "pygments_lexer": "ipython3",
   "version": "3.9.7"
  },
  "toc": {
   "base_numbering": 1,
   "nav_menu": {},
   "number_sections": false,
   "sideBar": true,
   "skip_h1_title": false,
   "title_cell": "Table of Contents",
   "title_sidebar": "Contents",
   "toc_cell": false,
   "toc_position": {},
   "toc_section_display": true,
   "toc_window_display": true
  }
 },
 "nbformat": 4,
 "nbformat_minor": 5
}
