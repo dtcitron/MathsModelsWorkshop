{
 "cells": [
  {
   "cell_type": "markdown",
   "id": "533bea75",
   "metadata": {},
   "source": [
    "# Exercise 3: Model Calibration"
   ]
  },
  {
   "cell_type": "code",
   "execution_count": 4,
   "id": "a9539a4d",
   "metadata": {},
   "outputs": [],
   "source": [
    "# Load libraries\n",
    "import numpy as np\n",
    "from scipy.integrate import odeint\n",
    "import pandas as pd\n",
    "import matplotlib.pyplot as plt\n",
    "\n",
    "# Use scipy.optimize.minimize to mnimizes sum of squared errors function\n",
    "from scipy.optimize import minimize"
   ]
  },
  {
   "cell_type": "code",
   "execution_count": 5,
   "id": "175453a0",
   "metadata": {},
   "outputs": [],
   "source": [
    "%matplotlib inline"
   ]
  },
  {
   "cell_type": "code",
   "execution_count": 7,
   "id": "384c6e0a",
   "metadata": {},
   "outputs": [
    {
     "data": {
      "text/html": [
       "<div>\n",
       "<style scoped>\n",
       "    .dataframe tbody tr th:only-of-type {\n",
       "        vertical-align: middle;\n",
       "    }\n",
       "\n",
       "    .dataframe tbody tr th {\n",
       "        vertical-align: top;\n",
       "    }\n",
       "\n",
       "    .dataframe thead th {\n",
       "        text-align: right;\n",
       "    }\n",
       "</style>\n",
       "<table border=\"1\" class=\"dataframe\">\n",
       "  <thead>\n",
       "    <tr style=\"text-align: right;\">\n",
       "      <th></th>\n",
       "      <th>Week_of_year</th>\n",
       "      <th>Deaths</th>\n",
       "      <th>time</th>\n",
       "    </tr>\n",
       "  </thead>\n",
       "  <tbody>\n",
       "    <tr>\n",
       "      <th>0</th>\n",
       "      <td>39</td>\n",
       "      <td>31</td>\n",
       "      <td>0</td>\n",
       "    </tr>\n",
       "    <tr>\n",
       "      <th>1</th>\n",
       "      <td>40</td>\n",
       "      <td>18</td>\n",
       "      <td>1</td>\n",
       "    </tr>\n",
       "    <tr>\n",
       "      <th>2</th>\n",
       "      <td>41</td>\n",
       "      <td>12</td>\n",
       "      <td>2</td>\n",
       "    </tr>\n",
       "    <tr>\n",
       "      <th>3</th>\n",
       "      <td>42</td>\n",
       "      <td>9</td>\n",
       "      <td>3</td>\n",
       "    </tr>\n",
       "    <tr>\n",
       "      <th>4</th>\n",
       "      <td>43</td>\n",
       "      <td>13</td>\n",
       "      <td>4</td>\n",
       "    </tr>\n",
       "  </tbody>\n",
       "</table>\n",
       "</div>"
      ],
      "text/plain": [
       "   Week_of_year  Deaths  time\n",
       "0            39      31     0\n",
       "1            40      18     1\n",
       "2            41      12     2\n",
       "3            42       9     3\n",
       "4            43      13     4"
      ]
     },
     "execution_count": 7,
     "metadata": {},
     "output_type": "execute_result"
    }
   ],
   "source": [
    "# Load plague Data\n",
    "plague_dat = pd.read_csv('../../plague_data.csv')\n",
    "plague_dat['time'] = plague_dat.index.values\n",
    "\n",
    "plague_dat.head()"
   ]
  },
  {
   "cell_type": "code",
   "execution_count": 8,
   "id": "d1a05b6d",
   "metadata": {},
   "outputs": [],
   "source": [
    "# Define a function for numerically integrating the SIR model\n",
    "def sir_model(state, time, parameters):\n",
    "    # Unpack Parameters\n",
    "    S, I, R = state\n",
    "    beta, gamma = parameters\n",
    "    \n",
    "    # Calculate total population size\n",
    "    N = S + I + R\n",
    "    \n",
    "    # Calculate force of infection\n",
    "    lambd = beta * I / N\n",
    "    \n",
    "    # Calculate derivatives\n",
    "    dS = -lambd * S\n",
    "    dI = lambd * S - gamma * I\n",
    "    dR = gamma * I\n",
    "    \n",
    "    # Return derivative\n",
    "    return [dS, dI, dR]"
   ]
  },
  {
   "cell_type": "markdown",
   "id": "b8bb2164",
   "metadata": {},
   "source": [
    "Define a cost function for quantifying the sum of squared errors - the difference between the data and our model:"
   ]
  },
  {
   "cell_type": "markdown",
   "id": "6470fd5a",
   "metadata": {},
   "source": [
    "## Question: What is R0 for your fitted model?"
   ]
  },
  {
   "cell_type": "code",
   "execution_count": 9,
   "id": "75c1e9fe",
   "metadata": {},
   "outputs": [],
   "source": [
    "def sir_sse(parameters, times, dat):\n",
    "    # Calculate model output\n",
    "    output = odeint(sir_model, initial_state_values, times, args=(parameters,))\n",
    "    output = pd.DataFrame(output, columns=['S', 'I', 'R'])\n",
    "    output['time'] = output.index + 10 # plus nine, because we are going to start on week 10\n",
    "    \n",
    "    # Merge with data\n",
    "    output = pd.merge(output, dat, on='time')\n",
    "    \n",
    "    # Calculate sum of squared errors (SSE)\n",
    "    output['sse'] = (output['I'] - output['Deaths'])**2\n",
    "    \n",
    "    sse = output['sse'].sum()\n",
    "    \n",
    "    return sse"
   ]
  },
  {
   "cell_type": "code",
   "execution_count": 10,
   "id": "6b155d92",
   "metadata": {},
   "outputs": [],
   "source": [
    "parameters = {'beta': 1.0, 'gamma': 0.5}\n",
    "\n",
    "# Define times - start at week 10\n",
    "times = np.arange(10, 61, 1)\n",
    "\n",
    "# Initial state values\n",
    "initial_state_values = [54999, 1, 0]\n",
    "\n",
    "# Perform the minimization of Sum of Squared Errors\n",
    "fitval = minimize(sir_sse, x0=list(parameters.values()), args=(times, plague_dat,), method='BFGS')\n",
    "\n",
    "# Parameter values from the optimization:\n",
    "fitval_params = fitval.x"
   ]
  },
  {
   "cell_type": "code",
   "execution_count": 11,
   "id": "35cbb07b",
   "metadata": {},
   "outputs": [
    {
     "data": {
      "text/plain": [
       "array([2.67546942, 2.20012301])"
      ]
     },
     "execution_count": 11,
     "metadata": {},
     "output_type": "execute_result"
    }
   ],
   "source": [
    "fitval_params"
   ]
  },
  {
   "cell_type": "code",
   "execution_count": 7,
   "id": "9e70505f",
   "metadata": {},
   "outputs": [],
   "source": [
    "# Solve the model with the optimized parameters\n",
    "sir_fit = odeint(sir_model, initial_state_values, times, args=(fitval_params,))\n",
    "sir_fit = pd.DataFrame(sir_fit, columns=['S', 'I', 'R'])\n",
    "sir_fit['time'] = times"
   ]
  },
  {
   "cell_type": "markdown",
   "id": "32103f46",
   "metadata": {},
   "source": [
    "Create a plot"
   ]
  },
  {
   "cell_type": "code",
   "execution_count": 8,
   "id": "f5f0fbb4",
   "metadata": {},
   "outputs": [
    {
     "data": {
      "image/png": "[encoded data removed]",
      "text/plain": [
       "<Figure size 864x648 with 1 Axes>"
      ]
     },
     "metadata": {
      "needs_background": "light"
     },
     "output_type": "display_data"
    }
   ],
   "source": [
    "plt.figure(figsize = (12,9))\n",
    "plt.plot(sir_fit['time'], sir_fit['I'], color='red', linewidth=4, label='I')\n",
    "plt.scatter(plague_dat['time'], plague_dat['Deaths'], color='black', s=30, label='Deaths')\n",
    "plt.xlabel(\"Time (Weeks)\",fontsize = 20)\n",
    "plt.ylabel(\"Deaths\",fontsize = 20)\n",
    "plt.xticks(fontsize = 20)\n",
    "plt.yticks(fontsize = 20)\n",
    "plt.legend(fontsize = 20)\n",
    "plt.grid(True)\n",
    "plt.show()"
   ]
  },
  {
   "cell_type": "markdown",
   "id": "8eb6b027",
   "metadata": {},
   "source": [
    "## Question: What is R0 for your fitted model?"
   ]
  },
  {
   "cell_type": "code",
   "execution_count": 9,
   "id": "dabe7c23",
   "metadata": {},
   "outputs": [
    {
     "data": {
      "text/plain": [
       "1.2160544687197459"
      ]
     },
     "execution_count": 9,
     "metadata": {},
     "output_type": "execute_result"
    }
   ],
   "source": [
    "fitval_params[0]/fitval_params[1]"
   ]
  },
  {
   "cell_type": "markdown",
   "id": "5a9283b3",
   "metadata": {},
   "source": [
    "## Question: What do you notice about your fitted model?\n",
    "Look at the plot above: what do you notice about it? Where does it do a good job of fitting the data? Where does it fail to fit the data?\n",
    "\n",
    "What might we change about the assumptions of our model to improve the model fit?"
   ]
  },
  {
   "cell_type": "markdown",
   "id": "796905a2",
   "metadata": {},
   "source": [
    "## Question: What is missing from our model?\n",
    "\n",
    "The SIR model is very simplistic - can you think of any aspects of disease transmission which we could add to our model in order to make the fit more realistic?\n"
   ]
  },
  {
   "cell_type": "markdown",
   "id": "8b68016e",
   "metadata": {},
   "source": [
    "\n",
    "## Optional questions to consider\n",
    "\n",
    "* If we vary the initial guess for the parameters, does the answer change in a meaningful way\n",
    "* What happens if we do not assume that the initial population size is known at the start? How should we change the calibration?\n",
    "* What happens if we assume that not all cases are reported on, and that the data represented here are systematically under-counting, but we do not know by how much? How should we change the calibration?\n"
   ]
  }
 ],
 "metadata": {
  "kernelspec": {
   "display_name": "Python 3 (ipykernel)",
   "language": "python",
   "name": "python3"
  },
  "language_info": {
   "codemirror_mode": {
    "name": "ipython",
    "version": 3
   },
   "file_extension": ".py",
   "mimetype": "text/x-python",
   "name": "python",
   "nbconvert_exporter": "python",
   "pygments_lexer": "ipython3",
   "version": "3.9.7"
  },
  "toc": {
   "base_numbering": 1,
   "nav_menu": {},
   "number_sections": false,
   "sideBar": true,
   "skip_h1_title": false,
   "title_cell": "Table of Contents",
   "title_sidebar": "Contents",
   "toc_cell": false,
   "toc_position": {},
   "toc_section_display": true,
   "toc_window_display": true
  }
 },
 "nbformat": 4,
 "nbformat_minor": 5
}
