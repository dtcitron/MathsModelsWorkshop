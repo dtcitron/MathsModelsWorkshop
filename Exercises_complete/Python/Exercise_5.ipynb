{
 "cells": [
  {
   "cell_type": "markdown",
   "id": "a80fae9d",
   "metadata": {},
   "source": [
    "# Exercise 5: Forecasting\n",
    "\n",
    "Here we will practice using our model as a forecasting tool. We will fit the model to the initial part of our plague dataset and see whether the model succeeds in predicting the later parts of the plague dataset."
   ]
  },
  {
   "cell_type": "markdown",
   "id": "ee26e4ef",
   "metadata": {},
   "source": [
    "## Set up"
   ]
  },
  {
   "cell_type": "code",
   "execution_count": 1,
   "id": "b8819dcb",
   "metadata": {},
   "outputs": [],
   "source": [
    "# Load libraries\n",
    "import numpy as np\n",
    "from scipy.integrate import odeint\n",
    "import pandas as pd\n",
    "import matplotlib.pyplot as plt\n",
    "\n",
    "# Use scipy.optimize.minimize to mnimizes sum of squared errors function\n",
    "from scipy.optimize import minimize"
   ]
  },
  {
   "cell_type": "code",
   "execution_count": 2,
   "id": "18550c38",
   "metadata": {},
   "outputs": [],
   "source": [
    "%matplotlib inline"
   ]
  },
  {
   "cell_type": "code",
   "execution_count": 3,
   "id": "ef08ac0f",
   "metadata": {},
   "outputs": [
    {
     "data": {
      "text/html": [
       "<div>\n",
       "<style scoped>\n",
       "    .dataframe tbody tr th:only-of-type {\n",
       "        vertical-align: middle;\n",
       "    }\n",
       "\n",
       "    .dataframe tbody tr th {\n",
       "        vertical-align: top;\n",
       "    }\n",
       "\n",
       "    .dataframe thead th {\n",
       "        text-align: right;\n",
       "    }\n",
       "</style>\n",
       "<table border=\"1\" class=\"dataframe\">\n",
       "  <thead>\n",
       "    <tr style=\"text-align: right;\">\n",
       "      <th></th>\n",
       "      <th>Week_of_year</th>\n",
       "      <th>Deaths</th>\n",
       "      <th>time</th>\n",
       "    </tr>\n",
       "  </thead>\n",
       "  <tbody>\n",
       "    <tr>\n",
       "      <th>0</th>\n",
       "      <td>39</td>\n",
       "      <td>31</td>\n",
       "      <td>0</td>\n",
       "    </tr>\n",
       "    <tr>\n",
       "      <th>1</th>\n",
       "      <td>40</td>\n",
       "      <td>18</td>\n",
       "      <td>1</td>\n",
       "    </tr>\n",
       "    <tr>\n",
       "      <th>2</th>\n",
       "      <td>41</td>\n",
       "      <td>12</td>\n",
       "      <td>2</td>\n",
       "    </tr>\n",
       "    <tr>\n",
       "      <th>3</th>\n",
       "      <td>42</td>\n",
       "      <td>9</td>\n",
       "      <td>3</td>\n",
       "    </tr>\n",
       "    <tr>\n",
       "      <th>4</th>\n",
       "      <td>43</td>\n",
       "      <td>13</td>\n",
       "      <td>4</td>\n",
       "    </tr>\n",
       "  </tbody>\n",
       "</table>\n",
       "</div>"
      ],
      "text/plain": [
       "   Week_of_year  Deaths  time\n",
       "0            39      31     0\n",
       "1            40      18     1\n",
       "2            41      12     2\n",
       "3            42       9     3\n",
       "4            43      13     4"
      ]
     },
     "execution_count": 3,
     "metadata": {},
     "output_type": "execute_result"
    }
   ],
   "source": [
    "# Load plague Data\n",
    "plague_dat = pd.read_csv('../../plague_data.csv')\n",
    "plague_dat['time'] = plague_dat.index.values\n",
    "\n",
    "plague_dat.head()"
   ]
  },
  {
   "cell_type": "code",
   "execution_count": 4,
   "id": "cc4e6b93",
   "metadata": {},
   "outputs": [],
   "source": [
    "# Define a function for numerically integrating the SIR model\n",
    "def sir_model(state, time, parameters):\n",
    "    # Unpack Parameters\n",
    "    S, I, R = state\n",
    "    beta, gamma = parameters\n",
    "    \n",
    "    # Calculate total population size\n",
    "    N = S + I + R\n",
    "    \n",
    "    # Calculate force of infection\n",
    "    lambd = beta * I / N\n",
    "    \n",
    "    # Calculate derivatives\n",
    "    dS = -lambd * S\n",
    "    dI = lambd * S - gamma * I\n",
    "    dR = gamma * I\n",
    "    \n",
    "    # Return derivative\n",
    "    return [dS, dI, dR]"
   ]
  },
  {
   "cell_type": "code",
   "execution_count": 5,
   "id": "e158bf2c",
   "metadata": {},
   "outputs": [],
   "source": [
    "# Using the fit values from before, generate a \"baseline solution\" to the model\n",
    "\n",
    "# Using the optimized parameter values from before\n",
    "parameters = {'beta': 2.67546942, 'gamma': 2.20012301}\n",
    "\n",
    "# Define times - start at week 10\n",
    "times = np.arange(10, 55, 1)\n",
    "\n",
    "\n",
    "# Initial state values\n",
    "initial_state_values = [55000 - 1, 1, 0]\n",
    "\n",
    "sir_fit = odeint(sir_model, initial_state_values, times, args=(list(parameters.values()),))\n",
    "sir_fit = pd.DataFrame(sir_fit, columns=['S', 'I', 'R'])\n",
    "sir_fit['time'] = times"
   ]
  },
  {
   "cell_type": "markdown",
   "id": "341d5a5c",
   "metadata": {},
   "source": [
    "\n",
    "# Fit model to partial data\n",
    "\n",
    "This will look very similar to what we did in exercise 3, but using a subset of our data.\n"
   ]
  },
  {
   "cell_type": "markdown",
   "id": "2e5c5773",
   "metadata": {},
   "source": [
    "Define cost function"
   ]
  },
  {
   "cell_type": "code",
   "execution_count": 6,
   "id": "89e5258e",
   "metadata": {},
   "outputs": [],
   "source": [
    "def sir_sse(parameters, times, dat):\n",
    "    # Calculate model output\n",
    "    output = odeint(sir_model, initial_state_values, times, args=(parameters,))\n",
    "    output = pd.DataFrame(output, columns=['S', 'I', 'R'])\n",
    "    output['time'] = output.index + 10 # plus nine, because we are going to start on week 10\n",
    "    \n",
    "    # Merge with data\n",
    "    output = pd.merge(output, dat, on='time')\n",
    "    \n",
    "    # Calculate sum of squared errors (SSE)\n",
    "    output['sse'] = (output['I'] - output['Deaths'])**2\n",
    "    \n",
    "    sse = output['sse'].sum()\n",
    "    \n",
    "    return sse"
   ]
  },
  {
   "cell_type": "markdown",
   "id": "b81767fb",
   "metadata": {},
   "source": [
    "Isolate the first data points from week 10 through week 20 in the plague dataset, and re-run the calibration from Exercise 3"
   ]
  },
  {
   "cell_type": "code",
   "execution_count": 7,
   "id": "b2bbc162",
   "metadata": {},
   "outputs": [],
   "source": [
    "# Create a new dataset which only includes the first 20 data points\n",
    "plague_dat_initial = plague_dat[:20]\n"
   ]
  },
  {
   "cell_type": "code",
   "execution_count": 8,
   "id": "40ec5ba1",
   "metadata": {},
   "outputs": [],
   "source": [
    "parameters = {'beta': 1.0, 'gamma': 0.5}\n",
    "\n",
    "# Define times - start at week 10 and end at week 20\n",
    "times = np.arange(10, 20, 1)\n",
    "\n",
    "# Initial state values\n",
    "initial_state_values = [54999, 1, 0]\n",
    "\n",
    "# Perform the minimization of Sum of Squared Errors\n",
    "fitval = minimize(sir_sse, x0=list(parameters.values()), args=(times, plague_dat_initial,), method='BFGS')\n",
    "\n",
    "# Parameter values from the optimization:\n",
    "fitval_params = fitval.x"
   ]
  },
  {
   "cell_type": "markdown",
   "id": "cfc1a30f",
   "metadata": {},
   "source": [
    "Here are the forecast model's estimates of $\\beta$ and $\\gamma$"
   ]
  },
  {
   "cell_type": "code",
   "execution_count": 9,
   "id": "fe1eab3b",
   "metadata": {},
   "outputs": [
    {
     "data": {
      "text/plain": [
       "array([8.89502363, 8.27198987])"
      ]
     },
     "execution_count": 9,
     "metadata": {},
     "output_type": "execute_result"
    }
   ],
   "source": [
    "fitval_params"
   ]
  },
  {
   "cell_type": "markdown",
   "id": "b6c7cf3b",
   "metadata": {},
   "source": [
    "Next, use the values of beta and gamma to forecast the rest of the outbreak:"
   ]
  },
  {
   "cell_type": "code",
   "execution_count": 10,
   "id": "ab3076eb",
   "metadata": {},
   "outputs": [],
   "source": [
    "# Define times - start at week 10\n",
    "times = np.arange(10, 55, 1)\n",
    "\n",
    "# Initial state values\n",
    "initial_state_values = [55000 - 1, 1, 0]\n",
    "\n",
    "# Solve the forecast model\n",
    "sir_forecast = odeint(sir_model, initial_state_values, times, args=(list(fitval_params),))\n",
    "sir_forecast = pd.DataFrame(sir_forecast, columns=['S', 'I', 'R'])\n",
    "sir_forecast['time'] = times\n",
    "\n",
    "sir_forecast = pd.DataFrame(sir_forecast)"
   ]
  },
  {
   "cell_type": "markdown",
   "id": "7d1a53ad",
   "metadata": {},
   "source": [
    "Also, use the values of beta and gamma from Exercise 3 so we can compare our full data fit model against the forecast model"
   ]
  },
  {
   "cell_type": "code",
   "execution_count": 11,
   "id": "b0e14f1a",
   "metadata": {},
   "outputs": [],
   "source": [
    "# Solve the model with the optimized parameters\n",
    "sir_fit = odeint(sir_model, initial_state_values, times, args=([2.67546942, 2.20012301],))\n",
    "sir_fit = pd.DataFrame(sir_fit, columns=['S', 'I', 'R'])\n",
    "sir_fit['time'] = times"
   ]
  },
  {
   "cell_type": "code",
   "execution_count": null,
   "id": "c1c1d181",
   "metadata": {},
   "outputs": [],
   "source": [
    "Create a plot"
   ]
  },
  {
   "cell_type": "code",
   "execution_count": 12,
   "id": "22d2d55a",
   "metadata": {
    "scrolled": false
   },
   "outputs": [
    {
     "data": {
      "image/png": "[encoded data removed]",
      "text/plain": [
       "<Figure size 864x648 with 1 Axes>"
      ]
     },
     "metadata": {
      "needs_background": "light"
     },
     "output_type": "display_data"
    }
   ],
   "source": [
    "# Create a plot\n",
    "plt.figure(figsize = (12,9))\n",
    "plt.plot(sir_forecast['time'], sir_forecast['I'], color='blue', linewidth=4, label='Quarantine')\n",
    "plt.plot(sir_fit['time'], sir_fit['I'], color='red', linewidth=4, label='Fit')\n",
    "plt.scatter(plague_dat['time'], plague_dat['Deaths'], color='black', s=30, label='Deaths')\n",
    "plt.xlabel(\"Time (Weeks)\",fontsize = 20)\n",
    "plt.ylabel(\"Deaths\",fontsize = 20)\n",
    "plt.xticks(fontsize = 20)\n",
    "plt.yticks(fontsize = 20)\n",
    "plt.legend(fontsize = 20)\n",
    "plt.grid(True)\n",
    "plt.show()"
   ]
  },
  {
   "cell_type": "markdown",
   "id": "4d26f2e3",
   "metadata": {},
   "source": [
    "## Question: Predicted Deaths\n",
    "\n",
    "How many deaths does the forecast model predict will occur during the outbreak?"
   ]
  },
  {
   "cell_type": "code",
   "execution_count": 13,
   "id": "6b2f070a",
   "metadata": {},
   "outputs": [
    {
     "data": {
      "text/plain": [
       "7532.51164224665"
      ]
     },
     "execution_count": 13,
     "metadata": {},
     "output_type": "execute_result"
    }
   ],
   "source": [
    "list(sir_forecast['R'])[-1]"
   ]
  },
  {
   "cell_type": "markdown",
   "id": "83aeca8b",
   "metadata": {},
   "source": [
    "How does that compare to the number of people who became infected before?\n",
    "\n",
    "The difference between these two counts reflects the accuracy of your forecast.\n"
   ]
  },
  {
   "cell_type": "code",
   "execution_count": 14,
   "id": "03b8f72b",
   "metadata": {},
   "outputs": [
    {
     "data": {
      "text/plain": [
       "18314.532053687297"
      ]
     },
     "execution_count": 14,
     "metadata": {},
     "output_type": "execute_result"
    }
   ],
   "source": [
    "list(sir_fit['R'])[-1]"
   ]
  },
  {
   "cell_type": "markdown",
   "id": "f5198c11",
   "metadata": {},
   "source": [
    "## Question: R_0\n",
    "What is R0 for your forecast model fit to only the first few data points?\n"
   ]
  },
  {
   "cell_type": "code",
   "execution_count": 15,
   "id": "aff1328d",
   "metadata": {},
   "outputs": [
    {
     "data": {
      "text/plain": [
       "1.075318486267243"
      ]
     },
     "execution_count": 15,
     "metadata": {},
     "output_type": "execute_result"
    }
   ],
   "source": [
    "fitval_params[0]/fitval_params[1]"
   ]
  },
  {
   "cell_type": "markdown",
   "id": "7738c70f",
   "metadata": {},
   "source": [
    "What was R0 for your model fit to all of the data points"
   ]
  },
  {
   "cell_type": "code",
   "execution_count": 16,
   "id": "aed5d71c",
   "metadata": {},
   "outputs": [
    {
     "data": {
      "text/plain": [
       "1.2160544751361628"
      ]
     },
     "execution_count": 16,
     "metadata": {},
     "output_type": "execute_result"
    }
   ],
   "source": [
    "2.67546942/2.2001230"
   ]
  },
  {
   "cell_type": "markdown",
   "id": "091b6625",
   "metadata": {},
   "source": [
    "How do these two values of R0 compare? How is this reflected in the differences between your forecasted model and the original model?"
   ]
  },
  {
   "cell_type": "markdown",
   "id": "c552acc7",
   "metadata": {},
   "source": [
    "## Optional Question: Improving the forecast\n",
    "Think of ways that you can make your forecast better. \n",
    "\n",
    "What happens to the forecast you change the initial parameter guess to the same values as in the original model (beta = 2.559, gamma = 2.109)?"
   ]
  },
  {
   "cell_type": "code",
   "execution_count": 19,
   "id": "bf2e7850",
   "metadata": {},
   "outputs": [
    {
     "data": {
      "text/plain": [
       "7532.51164224665"
      ]
     },
     "execution_count": 19,
     "metadata": {},
     "output_type": "execute_result"
    }
   ],
   "source": [
    "sir_forecast[\"R\"].values[-1]"
   ]
  },
  {
   "cell_type": "markdown",
   "id": "436ff7ec",
   "metadata": {},
   "source": [
    "How does that compare to the number of people who became infected before?"
   ]
  },
  {
   "cell_type": "code",
   "execution_count": 18,
   "id": "ad17dcbd",
   "metadata": {
    "scrolled": true
   },
   "outputs": [
    {
     "data": {
      "text/plain": [
       "18314.532053687297"
      ]
     },
     "execution_count": 18,
     "metadata": {},
     "output_type": "execute_result"
    }
   ],
   "source": [
    "sir_fit[\"R\"].values[-1]"
   ]
  },
  {
   "cell_type": "markdown",
   "id": "701f2e19",
   "metadata": {},
   "source": [
    "## Question : stopping an outbreak with quarantine\n",
    "Try adjusting p_quarantine: how large does it need to be in order to stop an outbreak from occurring?\n"
   ]
  },
  {
   "cell_type": "markdown",
   "id": "d985b265",
   "metadata": {},
   "source": [
    "## Optional question: Improving the forecast\n",
    "\n",
    "In this new quarantine scenario, we have altered the structure of our model.\n",
    "\n",
    "Find an expression for R_0 as a function of beta, gamma, and p_quarantine. Solve for p_quarantine such that R_0 = 1. Compare the value of p_quarantine to the value that you found which was high enough to stop an outbreak from occurring.\n"
   ]
  },
  {
   "cell_type": "markdown",
   "id": "78325d80",
   "metadata": {},
   "source": [
    "# Optional Question: Parameter Uncertainty\n",
    "\n",
    "Imagine that your parameter values have some uncertainty to them, and that they can range according to a uniform distribution with width +/- 10%. From this we can imagine a range of possible future outcomes: The uncertainty in our parameters translates into uncertainty in our forecast outcomes."
   ]
  },
  {
   "cell_type": "markdown",
   "id": "4e5fd41b",
   "metadata": {},
   "source": [
    "First, create a list of parameter combinations"
   ]
  },
  {
   "cell_type": "code",
   "execution_count": 20,
   "id": "261fd387",
   "metadata": {},
   "outputs": [],
   "source": [
    "fit_forecast_pars = np.array([\n",
    "    np.random.uniform(fitval_params[0]*.9, fitval_params[0]*1.1, 100),\n",
    "    np.random.uniform(fitval_params[1]*.9, fitval_params[1]*1.1, 100)]\n",
    ").T"
   ]
  },
  {
   "cell_type": "markdown",
   "id": "e688bbeb",
   "metadata": {},
   "source": [
    "Loop over each parameter combination: create a set of datapoints for each parameter combination\n"
   ]
  },
  {
   "cell_type": "code",
   "execution_count": 21,
   "id": "0313f92d",
   "metadata": {},
   "outputs": [],
   "source": [
    "for i in range(100):\n",
    "    params = fit_forecast_pars[i]\n",
    "    sir_forecast_draw = odeint(sir_model, initial_state_values, times, args=(params,))\n",
    "    sir_forecast_draw = pd.DataFrame(sir_forecast_draw, columns=['S', 'I', 'R'])\n",
    "    sir_forecast_draw['time'] = times\n",
    "    sir_forecast_draw['run'] = i\n",
    "    \n",
    "    if i == 0:\n",
    "        sir_forecast_draws = sir_forecast_draw\n",
    "    else:\n",
    "        sir_forecast_draws = pd.concat([sir_forecast_draws, sir_forecast_draw], axis = 0)"
   ]
  },
  {
   "cell_type": "markdown",
   "id": "a5114337",
   "metadata": {},
   "source": [
    "Plot!"
   ]
  },
  {
   "cell_type": "code",
   "execution_count": 22,
   "id": "c4c2413a",
   "metadata": {},
   "outputs": [
    {
     "data": {
      "image/png": "[encoded data removed]",
      "text/plain": [
       "<Figure size 864x648 with 1 Axes>"
      ]
     },
     "metadata": {
      "needs_background": "light"
     },
     "output_type": "display_data"
    }
   ],
   "source": [
    "# Create a plot\n",
    "plt.figure(figsize = (12,9))\n",
    "plt.plot(sir_fit['time'], sir_fit['I'], color='red', linewidth=4, label='Quarantine')\n",
    "\n",
    "for i in range(100):\n",
    "    plt.plot(sir_forecast_draws[sir_forecast_draws['run'] == i].loc[:,\"time\"].values, \n",
    "             sir_forecast_draws[sir_forecast_draws['run'] == i].loc[:,\"I\"].values, color='blue', linewidth=.5, label='Fit')\n",
    "\n",
    "plt.scatter(plague_dat['time'], plague_dat['Deaths'], color='black', s=30, label='Deaths')\n",
    "plt.xlabel(\"Time (Weeks)\",fontsize = 20)\n",
    "plt.ylabel(\"Deaths\",fontsize = 20)\n",
    "plt.xticks(fontsize = 20)\n",
    "plt.yticks(fontsize = 20)\n",
    "#plt.legend(fontsize = 20)\n",
    "plt.grid(True)\n",
    "plt.show()"
   ]
  },
  {
   "cell_type": "markdown",
   "id": "72f29c2f",
   "metadata": {},
   "source": [
    "Describe what you see - how big is the variation in the range of possible outputs? Are there systematic failures in the forecast with the uncertainties we have used for our parameter values?\n"
   ]
  },
  {
   "cell_type": "markdown",
   "id": "620dd807",
   "metadata": {},
   "source": [
    "\n",
    "# Optional Exercise: How initial data affects forecasting\n",
    "Try creating a new forecast, this time with fewer initial data points."
   ]
  }
 ],
 "metadata": {
  "kernelspec": {
   "display_name": "Python 3 (ipykernel)",
   "language": "python",
   "name": "python3"
  },
  "language_info": {
   "codemirror_mode": {
    "name": "ipython",
    "version": 3
   },
   "file_extension": ".py",
   "mimetype": "text/x-python",
   "name": "python",
   "nbconvert_exporter": "python",
   "pygments_lexer": "ipython3",
   "version": "3.9.7"
  },
  "toc": {
   "base_numbering": 1,
   "nav_menu": {},
   "number_sections": false,
   "sideBar": true,
   "skip_h1_title": false,
   "title_cell": "Table of Contents",
   "title_sidebar": "Contents",
   "toc_cell": false,
   "toc_position": {},
   "toc_section_display": true,
   "toc_window_display": true
  }
 },
 "nbformat": 4,
 "nbformat_minor": 5
}
