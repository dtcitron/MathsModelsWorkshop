{
 "cells": [
  {
   "cell_type": "markdown",
   "id": "ec1813bb",
   "metadata": {},
   "source": [
    "# Exercise 0: Introduction to Computational Tools - Python\n",
    "\n",
    "With this notebook, we will walk through how to generate the code I created for Exercise 1. This will also form the basis for the other exercises in the workshop. \n",
    "\n",
    "This is not the only way to approach and solve the various exercises in this workshop, so I encourage you to also create solutions to the exercises on your own.\n"
   ]
  },
  {
   "cell_type": "code",
   "execution_count": 15,
   "id": "277c5f9b",
   "metadata": {},
   "outputs": [],
   "source": [
    "# Load libraries\n",
    "import numpy as np\n",
    "import pandas as pd\n",
    "import matplotlib.pyplot as plt"
   ]
  },
  {
   "cell_type": "code",
   "execution_count": 16,
   "id": "67e330a2",
   "metadata": {},
   "outputs": [],
   "source": [
    "%matplotlib inline"
   ]
  },
  {
   "cell_type": "markdown",
   "id": "8faafa3c",
   "metadata": {},
   "source": [
    "The first thing that we will do together in this workshop is to be able to the Ordinary Differential Equation implementation of the Susceptible-Infected-Recovered model. To do this, we are going to use the `odeint` function:\n"
   ]
  },
  {
   "cell_type": "code",
   "execution_count": 17,
   "id": "2e4d6ca0",
   "metadata": {},
   "outputs": [],
   "source": [
    "# Import odeint function\n",
    "from scipy.integrate import odeint\n"
   ]
  },
  {
   "cell_type": "markdown",
   "id": "b8cd4d16",
   "metadata": {},
   "source": [
    "What does the function do? Check the documentation"
   ]
  },
  {
   "cell_type": "code",
   "execution_count": 18,
   "id": "7dc7883c",
   "metadata": {},
   "outputs": [],
   "source": [
    "?odeint"
   ]
  },
  {
   "cell_type": "markdown",
   "id": "1ec8015f",
   "metadata": {},
   "source": [
    "The important arguments for `odeint` are:\n",
    "\n",
    "* `func` - a function which returns the derivatives in your differential equation\n",
    "* `y0` - an array of initial conditions\n",
    "* `t` - an array of times where we evaluate the ODE\n",
    "* `args` - parameter values\n",
    "\n",
    "To summarize, we pass our differential equation (`func`), a set of initial conditions (`y0`), a set of time steps (`t`), and parameters (`args`) into the function `odeint`. The function will numerically integrate the differential equation and return values for that solution at each of the specified time steps."
   ]
  },
  {
   "cell_type": "markdown",
   "id": "2a602ec2",
   "metadata": {},
   "source": [
    "Let's create an array of initial conditions. You can use square brackets to make an array, with elements separated by commas `[1,2,3]`. The initial conditions are that at time=0 there are 9999 Susceptible individuals, 1 Infected individual, and 0 Recovered individuals:"
   ]
  },
  {
   "cell_type": "code",
   "execution_count": 9,
   "id": "862ed99e",
   "metadata": {},
   "outputs": [],
   "source": [
    "# Uncomment and fill in the initial conditions below\n",
    "#initial_state_values = [S_0, I_0, R_0]"
   ]
  },
  {
   "cell_type": "markdown",
   "id": "1a104b2b",
   "metadata": {},
   "source": [
    "Let's create an array of time steps where we will evaluate the differential equation. Use the function `arange` to create a sequence of time steps between time=0 and time=50.1, with an interval of 0.1"
   ]
  },
  {
   "cell_type": "code",
   "execution_count": 7,
   "id": "3ea35a69",
   "metadata": {},
   "outputs": [],
   "source": [
    "# Define a list of time steps\n",
    "?np.arange\n",
    "# Uncomment and fill in the code below\n",
    "# times = np.arange()"
   ]
  },
  {
   "cell_type": "markdown",
   "id": "49a047d5",
   "metadata": {},
   "source": [
    "Let's create an array of arguments `[Beta, Gamma]` to pass to our differential equation\n"
   ]
  },
  {
   "cell_type": "code",
   "execution_count": 10,
   "id": "b68cdfbf",
   "metadata": {},
   "outputs": [],
   "source": [
    "# Uncomment and fill in the values below\n",
    "#parameters = [Beta, Gamma]"
   ]
  },
  {
   "cell_type": "markdown",
   "id": "a14887d1",
   "metadata": {},
   "source": [
    "Finally, we need to create a function which evaluates the derivatives of each of our state variables, our differential equation. \n",
    "\n",
    "It should take in the following things as arguments\n",
    "\n",
    "* Array of current state variable values, ordered the same as the initial_state_variables above\n",
    "* Current time\n",
    "* Parameter values\n",
    "\n",
    "It should return an array of derivatives `[dS, dI, dR]`, ordered the same as the initial_state_variables above\n",
    "\n",
    "Complete the code below where indicated:"
   ]
  },
  {
   "cell_type": "code",
   "execution_count": 11,
   "id": "d8ab1b04",
   "metadata": {},
   "outputs": [],
   "source": [
    "def sir_model(state, time, parameters):\n",
    "    # Unpack state variable values\n",
    "    S, I, R = state\n",
    "    \n",
    "    # Unpack parameter values\n",
    "    beta, gamma = parameters\n",
    "    \n",
    "    # Calculate total population size\n",
    "    N = #\n",
    "    \n",
    "    # Calculate force of infection\n",
    "    lambd = #\n",
    "    \n",
    "    # Calculate derivatives\n",
    "    dS = #\n",
    "    dI = #\n",
    "    dR = #\n",
    "    \n",
    "    # Return derivative\n",
    "    return [dS, dI, dR]"
   ]
  },
  {
   "cell_type": "markdown",
   "id": "103ef64a",
   "metadata": {},
   "source": [
    "Now, let's use the `odeint` function"
   ]
  },
  {
   "cell_type": "code",
   "execution_count": 12,
   "id": "06b2e0f7",
   "metadata": {},
   "outputs": [],
   "source": [
    "sir_output = odeint(sir_model, initial_state_values, times, args=(parameters,))"
   ]
  },
  {
   "cell_type": "markdown",
   "id": "bdfa2a52",
   "metadata": {},
   "source": [
    "Create a quick plot of the output, to see if your solution worked:"
   ]
  },
  {
   "cell_type": "code",
   "execution_count": 14,
   "id": "297d1972",
   "metadata": {},
   "outputs": [
    {
     "data": {
      "text/plain": [
       "[<matplotlib.lines.Line2D at 0x7f8b51ddb3a0>,\n",
       " <matplotlib.lines.Line2D at 0x7f8b51ddb3d0>,\n",
       " <matplotlib.lines.Line2D at 0x7f8b51ddb430>]"
      ]
     },
     "execution_count": 14,
     "metadata": {},
     "output_type": "execute_result"
    },
    {
     "data": {
      "image/png": "[encoded data removed]",
      "text/plain": [
       "<Figure size 432x288 with 1 Axes>"
      ]
     },
     "metadata": {
      "needs_background": "light"
     },
     "output_type": "display_data"
    }
   ],
   "source": [
    "plt.plot(times,sir_output)"
   ]
  }
 ],
 "metadata": {
  "kernelspec": {
   "display_name": "Python 3 (ipykernel)",
   "language": "python",
   "name": "python3"
  },
  "language_info": {
   "codemirror_mode": {
    "name": "ipython",
    "version": 3
   },
   "file_extension": ".py",
   "mimetype": "text/x-python",
   "name": "python",
   "nbconvert_exporter": "python",
   "pygments_lexer": "ipython3",
   "version": "3.9.7"
  },
  "toc": {
   "base_numbering": 1,
   "nav_menu": {},
   "number_sections": true,
   "sideBar": true,
   "skip_h1_title": false,
   "title_cell": "Table of Contents",
   "title_sidebar": "Contents",
   "toc_cell": false,
   "toc_position": {},
   "toc_section_display": true,
   "toc_window_display": false
  }
 },
 "nbformat": 4,
 "nbformat_minor": 5
}
